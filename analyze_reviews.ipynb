import csv
from sys import argv
import os.path
import pandas as pd

reviews_file_path = "../coursera-review-analysis/reviews_by_course.csv"
df = pd.read_csv(reviews_file_path, header=0, error_bad_lines=False)
df = df.dropna()
df.tail()

## No of Reviews
len(df)

## No of courses
len(df['CourseId'].value_counts())

## Group Courses by review count
df['CourseId'].value_counts()[:20].plot(kind='barh')

## Filter Reviews For course Machine Learning
machine_learning_df = df.loc[df['CourseId'] == 'machine-learning']
machine_learning_df.head()

## No of reviews for machine learning course
len(machine_learning_df)

## Filter only Reviews With English alphanumeric chars
machine_learning_df = machine_learning_df[machine_learning_df['Review'].str.contains('[A-Za-z0-9 ]', na=False)]
machine_learning_df.head()

## No of reviews for machine learning course after filtering non-english reviews
len(machine_learning_df)

# Adding Sentiment Score For Review Using textblob (https://textblob.readthedocs.io/en/dev/)
from textblob import TextBlob
machine_learning_df['sentiment_score']=machine_learning_df['Review'].map(lambda text:TextBlob(text).sentiment.polarity)
machine_learning_df['review_len'] = machine_learning_df['Review'].astype(str).apply(len)


## Sample Reviews With Positive Sentiment Score
machine_learning_df.loc[machine_learning_df.sentiment_score == 1, ['Review']].sample(5)

## Sample Reviews With Negative Sentiment Score
machine_learning_df.nsmallest(4, 'sentiment_score')

## Plotting Sentiment Scores Distribution for Reviews
machine_learning_df['sentiment_score'].plot(
    kind='hist',
    bins=50,
    x='sentiment_score',
    y='count',
    title='Sentiment Score Distribution')
    
## Plotting Ratings Distribution for Reviews
machine_learning_df['Label'].plot(
    kind='hist',
    bins=5,
    x='Label',
    y='count',
    title='Rating Distribution')
    
## Filtering Positive and negative reviews
negative_reviews = machine_learning_df[machine_learning_df['sentiment_score'] < 0]
positive_reviews = machine_learning_df[machine_learning_df['sentiment_score'] > 0]
neutral_reviews = machine_learning_df[machine_learning_df['sentiment_score'] == 0]

## Use CounVectorizer to analyze top n grams of the reviews
from sklearn.feature_extraction.text import CountVectorizer
def get_top_n_words(corpus, n=None):
    vec = CountVectorizer(stop_words = 'english').fit(corpus)
    bag_of_words = vec.transform(corpus)
    sum_words = bag_of_words.sum(axis=0) 
    words_freq = [(word, sum_words[0, idx]) for word, idx in vec.vocabulary_.items()]
    words_freq =sorted(words_freq, key = lambda x: x[1], reverse=True)
    return words_freq[:n]

def get_top_n_bigram_words(corpus, n=None):
    vec = CountVectorizer(ngram_range=(2, 2),stop_words = 'english').fit(corpus)
    bag_of_words = vec.transform(corpus)
    sum_words = bag_of_words.sum(axis=0) 
    words_freq = [(word, sum_words[0, idx]) for word, idx in vec.vocabulary_.items()]
    words_freq =sorted(words_freq, key = lambda x: x[1], reverse=True)
    return words_freq[:n]

def get_top_n_trigram_words(corpus, n=None):
    vec = CountVectorizer(ngram_range=(3, 3),stop_words = 'english').fit(corpus)
    bag_of_words = vec.transform(corpus)
    sum_words = bag_of_words.sum(axis=0) 
    words_freq = [(word, sum_words[0, idx]) for word, idx in vec.vocabulary_.items()]
    words_freq =sorted(words_freq, key = lambda x: x[1], reverse=True)
    return words_freq[:n]

def plot_words_graph(common_words):
    df1 = pd.DataFrame(common_words, columns = ['Review' , 'count'])
    df2 = df1.groupby('Review').sum()['count'].sort_values(ascending=False).plot(
        kind='bar', y='Count', x='Word')

## Analyzing Positive Reviews

### 1 gram Words
common_words = get_top_n_words(positive_reviews['Review'], 20)
plot_words_graph(common_words)

### Bi-gram Words
common_words = get_top_n_bigram_words(positive_reviews['Review'], 20)
plot_words_graph(common_words)

### Tri-gram Words
common_words = get_top_n_trigram_words(positive_reviews['Review'], 20)
plot_words_graph(common_words)

## Analyzing Negative Reviews
### 1 gram Words
common_words = get_top_n_words(negative_reviews['Review'], 20)
plot_words_graph(common_words)

### Bi-gram Words
common_words = get_top_n_bigram_words(negative_reviews['Review'], 20)
plot_words_graph(common_words)

### Tri-gram Words
common_words = get_top_n_trigram_words(negative_reviews['Review'], 20)
plot_words_graph(common_words)


